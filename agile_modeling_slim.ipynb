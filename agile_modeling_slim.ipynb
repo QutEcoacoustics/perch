{
 "cells": [
  {
   "cell_type": "markdown",
   "metadata": {
    "id": "UEoybFElAON3"
   },
   "source": [
    "# Agile Modeling for Bioacoustics.\n",
    "\n",
    "This notebook provides a workflow for creating custom classifiers for target signals, by first **searching** for training data, and then engaging in an **active learning** loop.\n",
    "\n",
    "We assume that embeddings have been pre-computed using `embed.ipynb`."
   ]
  },
  {
   "cell_type": "markdown",
   "metadata": {
    "id": "gntw2Wq9Atpp"
   },
   "source": [
    "## Configuration and Imports."
   ]
  },
  {
   "cell_type": "code",
   "execution_count": null,
   "metadata": {
    "id": "coetZk9xAjCs"
   },
   "outputs": [],
   "source": [
    "#@title Installation. { vertical-output: true }\n",
    "#@markdown Run this notebook in Google Colab by following [this link](https://colab.research.google.com/github/google-research/perch/blob/main/agile_modeling.ipynb).\n",
    "#@markdown\n",
    "#@markdown Run this cell to install the project dependencies.\n",
    "%pip install git+https://github.com/google-research/perch.git\n"
   ]
  },
  {
   "cell_type": "code",
   "execution_count": null,
   "metadata": {
    "id": "58HLTIdcAzte"
   },
   "outputs": [],
   "source": [
    " #@title Imports. { vertical-output: true }\n",
    "\n",
    "from etils import epath\n",
    "\n",
    "from chirp.inference.notebook_helpers.agile_modeling_helpers import AgileModelingConfig, AgileModeling\n"
   ]
  },
  {
   "cell_type": "code",
   "execution_count": null,
   "metadata": {
    "id": "_fMOBVK9A_O1"
   },
   "outputs": [],
   "source": [
    "#@title Basic Configuration. { vertical-output: true }\n",
    "\n",
    "working_dir = '/tmp/agile' #@param {type:'string'}\n",
    "\n",
    "config = AgileModelingConfig(\n",
    "\n",
    "  #@markdown Choose what data to work with.\n",
    "  #@markdown * For local data (most cases), choose 'filesystem'.\n",
    "  #@markdown * For Australian Acoustic Observatory, select 'a2o'.\n",
    "  #@markdown This will cause many options (like model_choice) to be overridden.\n",
    "  #@markdown Note that you will need an Authentication Token from:\n",
    "  #@markdown https://data.acousticobservatory.org/my_account\n",
    "  data_source = 'filesystem', #@param['filesystem', 'a2o']\n",
    "  a2o_auth_token = '', #@param {type:'string'}\n",
    "\n",
    "  #@markdown Define the model: Usually perch or birdnet.\n",
    "  model_choice = 'perch',  #@param {type:'string'}\n",
    "  #@markdown Set the base directory for the project.\n",
    "  working_dir = working_dir,  \n",
    "\n",
    "  #@markdown Set the embedding and labeled data directories.\n",
    "  labeled_data_path = epath.Path(working_dir) / 'labeled',\n",
    "  custom_classifier_path = epath.Path(working_dir) / 'custom_classifier',\n",
    "\n",
    "  #@markdown The embeddings_path should be detected automatically, but can be\n",
    "  #@markdown overridden.\n",
    "  embeddings_path = '',\n",
    "\n",
    "  #@markdown OPTIONAL: Set up separation model.\n",
    "  separation_model_key = 'separator_model_tf',  #@param {type:'string'}\n",
    "  separation_model_path = ''  #@param {type:'string'}\n",
    "\n",
    ")\n"
   ]
  },
  {
   "cell_type": "code",
   "execution_count": null,
   "metadata": {
    "id": "2c4gJ6S2ETKu"
   },
   "outputs": [],
   "source": [
    "#@title Load Project State and Models. { vertical-output: true }\n",
    "\n",
    "# this initializes the project state based on the configuration\n",
    "# associated with the embeddings\n",
    "agile_modelling = AgileModeling(config)"
   ]
  },
  {
   "cell_type": "markdown",
   "metadata": {
    "id": "Q0p0qkxcFSG0"
   },
   "source": [
    "## Search Embeddings"
   ]
  },
  {
   "cell_type": "markdown",
   "metadata": {
    "id": "eML2kUhuGfZQ"
   },
   "source": [
    "### Query Creation"
   ]
  },
  {
   "cell_type": "code",
   "execution_count": null,
   "metadata": {
    "id": "xc1ExwK2GbQx"
   },
   "outputs": [],
   "source": [
    "#@title Load query audio. { vertical-output: true }\n",
    "\n",
    "#@markdown You may specify:\n",
    "#@markdown * an audio filepath (like `/home/me/audio/example.wav`),\n",
    "#@markdown * a Xeno-Canto id (like `xc12345`), or\n",
    "#@markdown * an audio file URL (like\n",
    "#@markdown https://upload.wikimedia.org/wikipedia/commons/7/7c/Turdus_merula_2.ogg).\n",
    "audio_path = 'xc692557'  #@param\n",
    "#@markdown Choose the start time for the audio window within the file.\n",
    "#@markdown We will focus on the model's `window_size_s` seconds of audio,\n",
    "#@markdown starting from `start_s` seconds into the file.\n",
    "start_s = 0  #@param\n",
    "\n",
    "agile_modelling.load_query_audio(audio_path)"
   ]
  },
  {
   "cell_type": "code",
   "execution_count": null,
   "metadata": {
    "id": "atpdag0FGkud"
   },
   "outputs": [],
   "source": [
    "#@title Select the query channel. { vertical-output: true }\n",
    "\n",
    "#@markdown Choose a name for the class.\n",
    "query_label = 'my_class'  #@param\n",
    "#@markdown If you have applied separation, choose a channel.\n",
    "#@markdown Ignored if no separation model is being used.\n",
    "query_channel = 0  #@param\n",
    "\n",
    "search_query = agile_modelling.get_query_embedding(query_channel = query_channel)\n"
   ]
  },
  {
   "cell_type": "markdown",
   "metadata": {
    "id": "c_Sx9wlJGo9y"
   },
   "source": [
    "### Execute Search"
   ]
  },
  {
   "cell_type": "code",
   "execution_count": null,
   "metadata": {
    "id": "tOV_G29mGm_Z"
   },
   "outputs": [],
   "source": [
    "#@title Run Top-K Search. { vertical-output: true }\n",
    "\n",
    "#@markdown Number of search results to capture.\n",
    "top_k = 50  #@param\n",
    "\n",
    "#@markdown Target distance for search results.\n",
    "#@markdown This lets us try to hone in on a 'classifier boundary' instead of\n",
    "#@markdown just looking at the closest matches.\n",
    "#@markdown Set to 'None' for raw 'best results' search.\n",
    "target_score = None  #@param\n",
    "\n",
    "metric = 'mip'  #@param['euclidean', 'mip', 'cosine']\n",
    "\n",
    "random_sample = False  #@param\n",
    "\n",
    "agile_modelling.do_search(search_query, \n",
    "                          top_k=top_k, target_score=target_score, \n",
    "                          metric=metric, random_sample=random_sample)\n",
    "\n",
    "agile_modelling.plot_histogram_of_distances(target_score=target_score)"
   ]
  },
  {
   "cell_type": "code",
   "execution_count": null,
   "metadata": {
    "id": "a8SYu-M2GsZx"
   },
   "outputs": [],
   "source": [
    "#@title Display results. { vertical-output: true }\n",
    "\n",
    "samples_per_page = 25\n",
    "agile_modelling.display_search_results(query_label, samples_per_page=samples_per_page)"
   ]
  },
  {
   "cell_type": "code",
   "execution_count": null,
   "metadata": {
    "id": "-wi-TOGDGvh5"
   },
   "outputs": [],
   "source": [
    "#@title Write annotated examples. { vertical-output: true }\n",
    "\n",
    "agile_modelling.save_validated_results()"
   ]
  },
  {
   "cell_type": "markdown",
   "metadata": {
    "id": "ZbZkOXncFYKm"
   },
   "source": [
    "## Active Learning for a Target Class"
   ]
  },
  {
   "cell_type": "code",
   "execution_count": null,
   "metadata": {
    "id": "NcLdypLeHmss"
   },
   "outputs": [],
   "source": [
    "# @title Load+Embed the Labeled Dataset. { vertical-output: true }\n",
    "\n",
    "#@markdown Time-pooling strategy for audio longer than the model's window size.\n",
    "time_pooling = 'mean'  # @param\n",
    "\n",
    "# This will load the labeled data from a folder of folders and generate embeddings for it.\n",
    "agile_modelling.embed_labelled_set(time_pooling=time_pooling)"
   ]
  },
  {
   "cell_type": "code",
   "execution_count": null,
   "metadata": {
    "id": "7mY5rIiDHoE0"
   },
   "outputs": [],
   "source": [
    "#@title Train small model over embeddings. { vertical-output: true }\n",
    "\n",
    "metrics = agile_modelling.train_custom_classifier(\n",
    "  #@markdown Number of random training examples to choose form each class.\n",
    "  #@markdown Set exactly one of `train_ratio` and `train_examples_per_class`.\n",
    "  train_ratio = 0.9,  #@param\n",
    "  train_examples_per_class = None,  #@param\n",
    "\n",
    "  #@markdown Number of random re-trainings. Allows judging model stability.\n",
    "  num_seeds = 3,  #@param\n",
    "\n",
    "  # Classifier training hyperparams.\n",
    "  # These should be good defaults.\n",
    "  batch_size = 32,\n",
    "  num_epochs = 128,\n",
    "  num_hiddens = -1,\n",
    "  learning_rate = 1e-3,\n",
    ")"
   ]
  },
  {
   "cell_type": "code",
   "execution_count": null,
   "metadata": {
    "id": "-0Kg43YhH0p3"
   },
   "outputs": [],
   "source": [
    "#@title Run model on target unlabeled data. { vertical-output: true }\n",
    "\n",
    "#@markdown Choose the target class to work with.\n",
    "target_class = 'my_class'  #@param\n",
    "#@markdown Choose a target logit; will display results close to the target.\n",
    "#@markdown Set to None to get the highest-logit examples.\n",
    "target_logit = 0.0  #@param\n",
    "#@markdown Number of results to display.\n",
    "num_results = 50  #@param\n",
    "\n",
    "agile_modelling.do_search_with_model(target_class=target_class, \n",
    "                                     target_logit=target_logit, \n",
    "                                     num_results=num_results)\n",
    "\n",
    "agile_modelling.plot_histogram_of_distances(target_score=target_logit)"
   ]
  },
  {
   "cell_type": "code",
   "execution_count": null,
   "metadata": {
    "id": "gHI2WJwPH2Wy"
   },
   "outputs": [],
   "source": [
    "#@title Display results for the target label. { vertical-output: true }\n",
    "\n",
    "agile_modelling.display_search_results(target_class)"
   ]
  },
  {
   "cell_type": "code",
   "execution_count": null,
   "metadata": {
    "id": "mDCcKfBGH4b_"
   },
   "outputs": [],
   "source": [
    "#@title Add selected results to the labeled data. { vertical-output: true }\n",
    "\n",
    "agile_modelling.save_validated_results()"
   ]
  },
  {
   "cell_type": "code",
   "execution_count": null,
   "metadata": {
    "id": "ZxasEcnhd7kP"
   },
   "outputs": [],
   "source": [
    "#@title Save the Custom Classifier. { vertical-output: true }\n",
    "\n",
    "agile_modelling.save_model()"
   ]
  },
  {
   "cell_type": "markdown",
   "metadata": {
    "id": "QNw_uivxIJda"
   },
   "source": [
    "## Inference"
   ]
  },
  {
   "cell_type": "code",
   "execution_count": null,
   "metadata": {
    "id": "XdpUiaYiIMIp"
   },
   "outputs": [],
   "source": [
    "#@title Write classifier inference CSV. { vertical-output: true }\n",
    "\n",
    "#@markdown This cell writes detections (locations of audio windows where\n",
    "#@markdown the logit was greater than a threshold) to a CSV file.\n",
    "\n",
    "output_filepath = epath.Path(config.working_dir) / 'inference.csv'  #@param\n",
    "\n",
    "#@markdown Set the default detection thresholds, used for all classes.\n",
    "#@markdown To set per-class detection thresholds, modify the code below.\n",
    "#@markdown Keep in mind that thresholds are on the logit scale, so 0.0\n",
    "#@markdown corresponds to a 50% model confidence.\n",
    "default_threshold = 0.0  #@param\n",
    "\n",
    "# Add any per-class thresholds here.\n",
    "class_thresholds = {'my_class': 1.0}  #@param\n",
    "\n",
    "#@markdown Classes to ignore when counting detections.\n",
    "exclude_classes = ['unknown']  #@param\n",
    "\n",
    "#@markdown The `include_classes` list is ignored if empty.\n",
    "#@markdown If non-empty, only scores for these classes will be written.\n",
    "include_classes = []  #@param\n",
    "\n",
    "agile_modelling.run_inference(output_filepath = output_filepath,\n",
    "                    default_threshold = default_threshold, \n",
    "                    class_thresholds = class_thresholds, \n",
    "                    include_classes = include_classes,\n",
    "                    exclude_classes = exclude_classes)\n"
   ]
  }
 ],
 "metadata": {
  "colab": {
   "private_outputs": true,
   "toc_visible": true
  },
  "kernelspec": {
   "display_name": "python3",
   "name": "python3"
  },
  "language_info": {
   "name": "python"
  }
 },
 "nbformat": 4,
 "nbformat_minor": 0
}
