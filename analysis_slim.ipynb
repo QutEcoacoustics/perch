{
 "cells": [
  {
   "cell_type": "markdown",
   "metadata": {
    "id": "ndV0dmyzhpHE"
   },
   "source": [
    "# Analysis of Bioacoustic Data\n",
    "\n",
    "This notebook provides tools for analyzing data using a custom classifier (developed with `agile_modeling.ipynb`)."
   ]
  },
  {
   "cell_type": "code",
   "execution_count": null,
   "metadata": {
    "id": "BN69E14wNBUW"
   },
   "outputs": [],
   "source": [
    "#@title Installation. { vertical-output: true }\n",
    "#@markdown You will likely need to work with `embed_audio.ipynb` and/or\n",
    "#@markdown `agile_modeling.ipynb` before working with this notebook.\n",
    "#@markdown\n",
    "#@markdown Run this notebook in Google Colab by following\n",
    "#@markdown [this link](https://colab.research.google.com/github/google-research/perch/blob/main/agile_modeling.ipynb).\n",
    "#@markdown\n",
    "#@markdown Run this cell to install the project dependencies.\n",
    "%pip install git+https://github.com/google-research/perch.git\n"
   ]
  },
  {
   "cell_type": "code",
   "execution_count": null,
   "metadata": {
    "id": "i984ftjPcxDu"
   },
   "outputs": [],
   "source": [
    "#@title Imports. { vertical-output: true }\n",
    "\n",
    "from etils import epath\n",
    "import numpy as np\n",
    "\n",
    "from chirp.inference.search import search\n",
    "from chirp.inference.notebook_helpers.agile_modeling_helpers import AgileModelingConfig, AgileModeling, estimate_call_density, estimate_roc_auc\n"
   ]
  },
  {
   "cell_type": "code",
   "execution_count": null,
   "metadata": {
    "id": "TRETHuu1h7uZ"
   },
   "outputs": [],
   "source": [
    "#@title Basic Configuration. { vertical-output: true }\n",
    "\n",
    "working_dir = '/tmp/agile' #@param {type:'string'}\n",
    "\n",
    "config = AgileModelingConfig(\n",
    "\n",
    "  data_source = 'filesystem',  \n",
    "  a2o_auth_token = '', \n",
    "\n",
    "  #@markdown Define the model: Usually perch or birdnet.\n",
    "  model_choice = 'perch',\n",
    "  #@markdown Set the base directory for the project.\n",
    "  working_dir = '/tmp/agile',\n",
    "\n",
    "  # Set the embedding and labeled data directories.\n",
    "  labeled_data_path = epath.Path(working_dir) / 'labeled',\n",
    "  custom_classifier_path = epath.Path(working_dir) / 'custom_classifier',\n",
    "\n",
    "  # The embeddings_path should be detected automatically, but can be overridden.\n",
    "  #embeddings_path = ''\n",
    "\n",
    ")\n"
   ]
  },
  {
   "cell_type": "code",
   "execution_count": null,
   "metadata": {
    "id": "ake6Xk_Hh-nN"
   },
   "outputs": [],
   "source": [
    "#@title Load Existing Project State and Models. { vertical-output: true }\n",
    "\n",
    "agile_modelling = AgileModeling(config)"
   ]
  },
  {
   "cell_type": "code",
   "execution_count": null,
   "metadata": {
    "id": "Ur03VoLyuBHR"
   },
   "outputs": [],
   "source": [
    "#@title Write classifier inference CSV. { vertical-output: true }\n",
    "\n",
    "#@markdown This cell writes detections (locations of audio windows where\n",
    "#@markdown the logit was greater than a threshold) to a CSV file.\n",
    "\n",
    "output_filepath = epath.Path(config.working_dir) / 'inference.csv'  #@param\n",
    "\n",
    "#@markdown Set the default detection thresholds, used for all classes.\n",
    "#@markdown To set per-class detection thresholds, modify the code below.\n",
    "#@markdown Keep in mind that thresholds are on the logit scale, so 0.0\n",
    "#@markdown corresponds to a 50% model confidence.\n",
    "default_threshold = 0.0  #@param\n",
    "\n",
    "# Add any per-class thresholds here.\n",
    "class_thresholds = {'my_class': 1.0}  #@param\n",
    "\n",
    "#@markdown Classes to ignore when counting detections.\n",
    "exclude_classes = ['unknown']  #@param\n",
    "\n",
    "#@markdown The `include_classes` list is ignored if empty.\n",
    "#@markdown If non-empty, only scores for these classes will be written.\n",
    "include_classes = []  #@param\n",
    "\n",
    "agile_modelling.run_inference(output_filepath = output_filepath,\n",
    "                    default_threshold = default_threshold, \n",
    "                    class_thresholds = class_thresholds, \n",
    "                    include_classes = include_classes,\n",
    "                    exclude_classes = exclude_classes)"
   ]
  },
  {
   "cell_type": "markdown",
   "metadata": {
    "id": "GdJmpn0XzMj6"
   },
   "source": [
    "## Call Density Estimation\n",
    "\n",
    "See 'All Thresholds Barred': https://arxiv.org/abs/2402.15360"
   ]
  },
  {
   "cell_type": "code",
   "execution_count": null,
   "metadata": {
    "id": "-lhqypjsu2L9"
   },
   "outputs": [],
   "source": [
    "#@title Validation and Call Density. { vertical-output: true }\n",
    "\n",
    "target_class = 'my_class'  #@param {type:'string'}\n",
    "\n",
    "#@markdown Bin bounds for validation. Should be an ordered list, beginning with\n",
    "#@markdown 0.0 and ending with 1.0.\n",
    "bounds = [0.0, 0.9, 0.99, 0.999, 1.0]  #@param\n",
    "\n",
    "#@markdown Number of validation samples per bin.\n",
    "samples_per_bin = 25  #@param\n",
    "\n",
    "binned_validation_examples = agile_modelling.prepare_call_density_estimation(target_class: str = target_class, \n",
    "                                                                             bounds = bounds, \n",
    "                                                                             samples_per_bin = samples_per_bin)\n"
   ]
  },
  {
   "cell_type": "code",
   "execution_count": null,
   "metadata": {
    "id": "It0gpV_avg7h"
   },
   "outputs": [],
   "source": [
    "#@title Display Results. { vertical-output: true }\n",
    "\n",
    "combined_results = binned_validation_examples['combined_results']\n",
    "\n",
    "samples_per_page = 40  #@param\n",
    "page_state = display.PageState(\n",
    "    np.ceil(len(combined_results) / samples_per_page))\n",
    "\n",
    "display.display_paged_results(\n",
    "    search.TopKSearchResults(len(combined_results), combined_results),\n",
    "    page_state, samples_per_page,\n",
    "    project_state=agile_modelling.project_state,\n",
    "    embedding_sample_rate=agile_modelling.project_state.embedding_model.sample_rate,\n",
    "    exclusive_labels=True,\n",
    "    checkbox_labels=[target_class, f'not {target_class}', 'unsure'],\n",
    ")"
   ]
  },
  {
   "cell_type": "code",
   "execution_count": null,
   "metadata": {
    "id": "A30usazfu8h8"
   },
   "outputs": [],
   "source": [
    "#@title Collate results and write validation log. { vertical-output: true }\n",
    "\n",
    "validation_log = agile_modelling.write_validation_log(binned_validation_examples)"
   ]
  },
  {
   "cell_type": "code",
   "execution_count": null,
   "metadata": {
    "id": "uZHVzPttwGZ2"
   },
   "outputs": [],
   "source": [
    "#@title Estimate Call Density. { vertical-output: true }\n",
    "\n",
    "estimate_call_density(binned_validation_examples, validation_log)\n"
   ]
  },
  {
   "cell_type": "code",
   "execution_count": null,
   "metadata": {
    "id": "6PPrCBc-15k_"
   },
   "outputs": [],
   "source": [
    "#@title Naive Estimation of ROC-AUC for target class. { vertical-output: true }\n",
    "#@markdown Computes ROC-AUC from the validation logs, with bin weighting.\n",
    "#@markdown ROC-AUC is the overall probability that a random positive example\n",
    "#@markdown has a higher classifier score than a random negative example.\n",
    "\n",
    "estimate_roc_auc(binned_validation_examples, validation_log)"
   ]
  }
 ],
 "metadata": {
  "colab": {
   "private_outputs": true,
   "toc_visible": true
  },
  "kernelspec": {
   "display_name": "Python 3",
   "name": "python3"
  },
  "language_info": {
   "name": "python"
  }
 },
 "nbformat": 4,
 "nbformat_minor": 0
}
